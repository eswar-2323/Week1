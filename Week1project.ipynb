{
 "cells": [
  {
   "cell_type": "code",
   "execution_count": 1,
   "metadata": {},
   "outputs": [
    {
     "name": "stdout",
     "output_type": "stream",
     "text": [
      "(0, 2)\n"
     ]
    },
    {
     "data": {
      "image/png": "[encoded data removed]",
      "text/plain": [
       "<Figure size 640x480 with 1 Axes>"
      ]
     },
     "metadata": {},
     "output_type": "display_data"
    }
   ],
   "source": [
    "# Importing necessary libraries\n",
    "import os\n",
    "import numpy as np\n",
    "import pandas as pd\n",
    "import matplotlib.pyplot as plt\n",
    "import cv2\n",
    "from tqdm import tqdm\n",
    "import warnings\n",
    "warnings.filterwarnings('ignore')\n",
    "\n",
    "train_path = \"dataset/TRAIN\"\n",
    "test_path = \"dataset/TEST\"\n",
    "\n",
    "# Importing libraries for model building\n",
    "from tensorflow.keras.models import Sequential\n",
    "from tensorflow.keras.layers import Conv2D, MaxPooling2D, Activation, Dropout, Flatten, Dense, BatchNormalization\n",
    "from tensorflow.keras.preprocessing.image import ImageDataGenerator, img_to_array, load_img\n",
    "from tensorflow.keras.utils import plot_model\n",
    "from glob import glob\n",
    "\n",
    "# Visualization\n",
    "x_data = []\n",
    "y_data = []\n",
    "\n",
    "# Iterate through image directories\n",
    "for category in glob(train_path + '/*'):\n",
    "    for file in tqdm(glob(category + '/*')):\n",
    "        img_array = cv2.imread(file)\n",
    "        \n",
    "        # Ensure the image is valid\n",
    "        if img_array is not None:\n",
    "            img_array = cv2.cvtColor(img_array, cv2.COLOR_BGR2RGB)\n",
    "            x_data.append(img_array)\n",
    "            y_data.append(os.path.basename(category))  # Get the folder name (category)\n",
    "\n",
    "# Create DataFrame\n",
    "data = pd.DataFrame({'image': x_data, 'label': y_data})\n",
    "\n",
    "# Check the shape of the dataset\n",
    "print(data.shape)\n",
    "\n",
    "# Visualization with Pie chart\n",
    "labels = data.label.value_counts().index  # Get unique category names\n",
    "colors = ['#a0d157', '#c48bb8'][:len(labels)]  # Adjust colors based on the number of labels\n",
    "explode = [0.05] * len(labels)  # Adjust explode to match the number of labels\n",
    "\n",
    "# Create the pie chart\n",
    "plt.pie(data.label.value_counts(), \n",
    "        labels=labels, \n",
    "        autopct='%0.3f%%', \n",
    "        colors=colors, \n",
    "        startangle=90, \n",
    "        explode=explode)  # Explode all slices for visual effect\n",
    "plt.show()\n"
   ]
  },
  {
   "cell_type": "code",
   "execution_count": null,
   "metadata": {},
   "outputs": [],
   "source": []
  }
 ],
 "metadata": {
  "kernelspec": {
   "display_name": "base",
   "language": "python",
   "name": "python3"
  },
  "language_info": {
   "codemirror_mode": {
    "name": "ipython",
    "version": 3
   },
   "file_extension": ".py",
   "mimetype": "text/x-python",
   "name": "python",
   "nbconvert_exporter": "python",
   "pygments_lexer": "ipython3",
   "version": "3.12.4"
  }
 },
 "nbformat": 4,
 "nbformat_minor": 2
}
